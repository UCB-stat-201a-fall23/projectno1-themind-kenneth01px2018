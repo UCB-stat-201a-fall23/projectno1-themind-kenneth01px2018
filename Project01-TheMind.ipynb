{
 "cells": [
  {
   "cell_type": "markdown",
   "id": "ee29ead3",
   "metadata": {
    "user_expressions": []
   },
   "source": [
    "## Project No1 - The Mind\n",
    "\n",
    "Refer to the `README.md` for further information about how to play the game and the objectives for this first project. \n",
    "\n",
    "When writing code, we recommend you to be as modular as possible. For example, if you are running multiple experiments for different choices of parameters, it may be convenient to write a function that does one experiment and then make multiple calls to the same function. Follow the _do not repeat yourself_ rule when writing code! "
   ]
  },
  {
   "cell_type": "code",
   "execution_count": 1,
   "id": "bff3fb67",
   "metadata": {},
   "outputs": [],
   "source": [
    "import numpy as np\n",
    "import matplotlib.pyplot as plt\n",
    "import random\n",
    "import pandas as pd\n",
    "import seaborn as sns\n",
    "import math"
   ]
  },
  {
   "cell_type": "markdown",
   "id": "8e149528",
   "metadata": {
    "user_expressions": []
   },
   "source": [
    "Let's start by creating a function that generates one sample of the game. Feel free to change this code as you find it suitable, for example by changing how the sampling is created or if you want to sample cards with replacement (this could be useful for the last questions)."
   ]
  },
  {
   "cell_type": "code",
   "execution_count": 2,
   "id": "25fba6f0",
   "metadata": {},
   "outputs": [],
   "source": [
    "def sample_cards(N, n, k):\n",
    "    \"\"\"\n",
    "    Generates a simulated sample of how the cards are shuffled among players. \n",
    "    \n",
    "    Arguments: \n",
    "        - N : Total number of cards\n",
    "        - n : Number of players\n",
    "        - k : Number of cards per player\n",
    "        \n",
    "    Returns: \n",
    "        - 2D numpy array where each row represent each player and each column their card in ascending order. \n",
    "    \"\"\"\n",
    "    \n",
    "    assert n * k <= N, \"There are not enough cards for all the players!\"\n",
    "    \n",
    "    _cards = np.random.choice(a=np.arange(1, N+1), size=n*k, replace=False)\n",
    "    _cards = _cards.reshape(n,k)\n",
    "    _cards.sort(axis=1)\n",
    "    return _cards"
   ]
  },
  {
   "cell_type": "markdown",
   "id": "df9eaefa",
   "metadata": {
    "user_expressions": []
   },
   "source": [
    "Now we can just generate how cards are distributed among players by simply making a call to this function with the desired parameters. "
   ]
  },
  {
   "cell_type": "code",
   "execution_count": 3,
   "id": "b49cafd3",
   "metadata": {},
   "outputs": [
    {
     "data": {
      "text/plain": [
       "array([[50, 58, 93],\n",
       "       [12, 77, 78],\n",
       "       [25, 66, 97],\n",
       "       [17, 41, 89],\n",
       "       [20, 91, 95],\n",
       "       [18, 38, 76]])"
      ]
     },
     "execution_count": 3,
     "metadata": {},
     "output_type": "execute_result"
    }
   ],
   "source": [
    "cards = sample_cards(100, 6, 3)\n",
    "cards"
   ]
  },
  {
   "cell_type": "markdown",
   "id": "bf973116",
   "metadata": {
    "user_expressions": []
   },
   "source": [
    "and access the cards of each player with "
   ]
  },
  {
   "cell_type": "code",
   "execution_count": 4,
   "id": "485ff136",
   "metadata": {},
   "outputs": [
    {
     "data": {
      "text/plain": [
       "(array([50, 58, 93]), array([12, 77, 78]))"
      ]
     },
     "execution_count": 4,
     "metadata": {},
     "output_type": "execute_result"
    }
   ],
   "source": [
    "player0 = cards[0,:]\n",
    "player1 = cards[1,:]\n",
    "player0, player1"
   ]
  },
  {
   "cell_type": "markdown",
   "id": "f8004f3c",
   "metadata": {
    "user_expressions": []
   },
   "source": [
    "The lowest card in the game is"
   ]
  },
  {
   "cell_type": "code",
   "execution_count": 5,
   "id": "95280743",
   "metadata": {},
   "outputs": [
    {
     "data": {
      "text/plain": [
       "12"
      ]
     },
     "execution_count": 5,
     "metadata": {},
     "output_type": "execute_result"
    }
   ],
   "source": [
    "np.min(cards)"
   ]
  },
  {
   "cell_type": "code",
   "execution_count": 6,
   "id": "6bc96447",
   "metadata": {},
   "outputs": [
    {
     "data": {
      "text/plain": [
       "array([1, 2, 3, 4])"
      ]
     },
     "execution_count": 6,
     "metadata": {},
     "output_type": "execute_result"
    }
   ],
   "source": [
    "np.arange(1, 5)"
   ]
  },
  {
   "cell_type": "markdown",
   "id": "9e95e05a",
   "metadata": {
    "user_expressions": []
   },
   "source": [
    "### 1. What is the distribution of the lowest number? \n",
    "\n",
    "Repeat the sampling of the cards multiple times for the same choice of `N`, `n` and `k` and plot the distribution of the lowest number in the sample. Use an [histogram](https://matplotlib.org/stable/api/_as_gen/matplotlib.pyplot.hist.html) to plot the distribution and set the bins to be the available integer number cards. "
   ]
  },
  {
   "cell_type": "code",
   "execution_count": 7,
   "id": "e49f8295",
   "metadata": {},
   "outputs": [
    {
     "name": "stdout",
     "output_type": "stream",
     "text": [
      "5.348\n"
     ]
    },
    {
     "data": {
      "image/png": "[encoded data removed]",
      "text/plain": [
       "<Figure size 432x288 with 1 Axes>"
      ]
     },
     "metadata": {
      "needs_background": "light"
     },
     "output_type": "display_data"
    }
   ],
   "source": [
    "# To Do cell\n",
    "random.seed(24)\n",
    "N = 100\n",
    "n = 6\n",
    "k = 3\n",
    "samp_size = 1000\n",
    "samp_mins = []\n",
    "for i in range(samp_size):\n",
    "    temp_cards = sample_cards(N, n, k)\n",
    "    samp_mins.append(np.min(temp_cards))\n",
    "plt.hist(samp_mins, range(1, N))\n",
    "print(np.mean(samp_mins))"
   ]
  },
  {
   "cell_type": "markdown",
   "id": "1bf65c94",
   "metadata": {
    "user_expressions": []
   },
   "source": [
    "### 2. What is the distribution of the largest gap?\n",
    "\n",
    "For each simulation, found the largest distance between consecutive numbers in the game. To make this easy, let us first consider the largest gap among the pool of **all** the cards among players (if the largest gap is happening in the hand of one single player, that is ok). This will make the analysis more simple. "
   ]
  },
  {
   "cell_type": "code",
   "execution_count": 9,
   "id": "bdd6f78e",
   "metadata": {},
   "outputs": [
    {
     "name": "stdout",
     "output_type": "stream",
     "text": [
      "17.062\n"
     ]
    },
    {
     "data": {
      "image/png": "[encoded data removed]",
      "text/plain": [
       "<Figure size 432x288 with 1 Axes>"
      ]
     },
     "metadata": {
      "needs_background": "light"
     },
     "output_type": "display_data"
    }
   ],
   "source": [
    "# To Do cell\n",
    "def largest_gap_same(N, n, k, samp_size = 1000):\n",
    "    samp_dist = []\n",
    "    for i in range(samp_size):\n",
    "        temp_cards = sample_cards(N, n, k)\n",
    "        # flatten, sort, and find largest distance\n",
    "        temp = temp_cards.flatten()\n",
    "        temp.sort()\n",
    "        samp_dist.append(max(np.diff(temp)))\n",
    "    return samp_dist\n",
    "one_samp_same = largest_gap_same(N, n, k)\n",
    "plt.hist(one_samp_same, range(1, N))\n",
    "print(np.mean(one_samp_same))"
   ]
  },
  {
   "cell_type": "markdown",
   "id": "7eee14e7",
   "metadata": {
    "user_expressions": []
   },
   "source": [
    "Repeat the experiment but know compute the largest gap between cards of different players. This is the gap that actually matters for the purposes of the game: what is the maximum number of numbers that a player will have to wait before playing the next card?"
   ]
  },
  {
   "cell_type": "code",
   "execution_count": 39,
   "id": "557392bf",
   "metadata": {},
   "outputs": [],
   "source": [
    "# def largest_gap_diff(N, n, k, samp_size = 1000):\n",
    "#     samp_gaps = []\n",
    "#     for i in range(samp_size):\n",
    "#         temp_cards = sample_cards(N, n, k)\n",
    "#         # Index for player cards\n",
    "#         player_card = np.zeros(n)\n",
    "#         gaps = []\n",
    "#         # While any player still hasn't used up all k cards\n",
    "#         while any(player_card < k):\n",
    "#             temp_mins = []\n",
    "#             idx = 0\n",
    "#             for card in player_card:\n",
    "#                 # If player still hasn't played card\n",
    "#                 if card < k:\n",
    "#                     # Add min of each player's hand\n",
    "#                     temp_mins.append(temp_cards[idx, int(card)])\n",
    "#                 idx += 1\n",
    "#             temp_min = np.min(temp_mins)\n",
    "#             # Store largest gap\n",
    "#             gaps.append(np.max(temp_mins - temp_min))\n",
    "#             # Increment player with smallest card\n",
    "#             for j in range(0, n):\n",
    "#                 card = int(player_card[j])\n",
    "#                 if card >= k:\n",
    "#                     next\n",
    "#                 elif temp_cards[j, card] == temp_min:\n",
    "#                     player_card[j] += 1\n",
    "#         samp_gaps.append(np.max(gaps))\n",
    "#     return samp_gaps\n",
    "# one_samp_diff = largest_gap_diff(N, n, k)\n",
    "# np.mean(one_samp_diff)            "
   ]
  },
  {
   "cell_type": "code",
   "execution_count": 50,
   "id": "c0eb3eb9",
   "metadata": {},
   "outputs": [
    {
     "data": {
      "text/plain": [
       "16.316"
      ]
     },
     "execution_count": 50,
     "metadata": {},
     "output_type": "execute_result"
    }
   ],
   "source": [
    "N = 100\n",
    "n = 6\n",
    "k = 3\n",
    "def largest_gap_diff(N, n, k, samp_size = 1000):\n",
    "    samp_gaps = []\n",
    "    for _ in range(samp_size):\n",
    "        temp = sample_cards(N, n, k)\n",
    "        # Create index of players\n",
    "        lst = []\n",
    "        for i in range(n):\n",
    "            for j in range(k):\n",
    "                lst.append(i)\n",
    "        # Create data frame with two cols: 1. flattened sample 2. corresponding player idx \n",
    "        df = pd.DataFrame({'card': temp.flatten(), 'player': lst})\n",
    "        # Sort by card value and then difference both columns\n",
    "        df = df.sort_values(by = ['card']).diff().tail(-1)\n",
    "        # Remove consecutive cards from same players and find max\n",
    "        largest_gap = np.max(df.loc[df['player'] != 0, \"card\"])\n",
    "        samp_gaps.append(largest_gap)\n",
    "    return samp_gaps\n",
    "one_samp_diff = largest_gap_diff(N, n, k)\n",
    "np.mean(one_samp_diff)  "
   ]
  },
  {
   "cell_type": "code",
   "execution_count": 51,
   "id": "7df31f1a",
   "metadata": {},
   "outputs": [
    {
     "data": {
      "text/plain": [
       "(array([  0.,   0.,   0.,   0.,   0.,   0.,   1.,   3.,  10.,  15.,  30.,\n",
       "         75.,  79.,  94., 100.,  77.,  76.,  95.,  75.,  47.,  51.,  37.,\n",
       "         39.,  20.,  24.,  11.,   7.,  13.,   7.,   2.,   1.,   4.,   0.,\n",
       "          4.,   0.,   1.,   0.,   1.,   0.,   1.,   0.,   0.,   0.,   0.,\n",
       "          0.,   0.,   0.,   0.,   0.,   0.,   0.,   0.,   0.,   0.,   0.,\n",
       "          0.,   0.,   0.,   0.,   0.,   0.,   0.,   0.,   0.,   0.,   0.,\n",
       "          0.,   0.,   0.,   0.,   0.,   0.,   0.,   0.,   0.,   0.,   0.,\n",
       "          0.,   0.,   0.,   0.,   0.,   0.,   0.,   0.,   0.,   0.,   0.,\n",
       "          0.,   0.,   0.,   0.,   0.,   0.,   0.,   0.,   0.,   0.,   0.]),\n",
       " array([ 0,  1,  2,  3,  4,  5,  6,  7,  8,  9, 10, 11, 12, 13, 14, 15, 16,\n",
       "        17, 18, 19, 20, 21, 22, 23, 24, 25, 26, 27, 28, 29, 30, 31, 32, 33,\n",
       "        34, 35, 36, 37, 38, 39, 40, 41, 42, 43, 44, 45, 46, 47, 48, 49, 50,\n",
       "        51, 52, 53, 54, 55, 56, 57, 58, 59, 60, 61, 62, 63, 64, 65, 66, 67,\n",
       "        68, 69, 70, 71, 72, 73, 74, 75, 76, 77, 78, 79, 80, 81, 82, 83, 84,\n",
       "        85, 86, 87, 88, 89, 90, 91, 92, 93, 94, 95, 96, 97, 98, 99]),\n",
       " <a list of 99 Patch objects>)"
      ]
     },
     "execution_count": 51,
     "metadata": {},
     "output_type": "execute_result"
    },
    {
     "data": {
      "image/png": "[encoded data removed]",
      "text/plain": [
       "<Figure size 432x288 with 1 Axes>"
      ]
     },
     "metadata": {
      "needs_background": "light"
     },
     "output_type": "display_data"
    }
   ],
   "source": [
    "plt.hist(one_samp_diff, range(N))"
   ]
  },
  {
   "cell_type": "code",
   "execution_count": 52,
   "id": "adcfea0b",
   "metadata": {},
   "outputs": [
    {
     "data": {
      "text/plain": [
       "<matplotlib.legend.Legend at 0x7f81739dd810>"
      ]
     },
     "execution_count": 52,
     "metadata": {},
     "output_type": "execute_result"
    },
    {
     "data": {
      "image/png": "[encoded data removed]",
      "text/plain": [
       "<Figure size 432x288 with 1 Axes>"
      ]
     },
     "metadata": {
      "needs_background": "light"
     },
     "output_type": "display_data"
    }
   ],
   "source": [
    "plt.hist(one_samp_same, range(N), alpha = 0.5, label = \"Same player\")\n",
    "plt.hist(one_samp_diff, range(N), alpha = 0.5, label = \"Different player\")\n",
    "plt.legend(loc='upper right')"
   ]
  },
  {
   "cell_type": "markdown",
   "id": "48d06ec9",
   "metadata": {
    "user_expressions": []
   },
   "source": [
    "How does these compare? Run simulations for different choices of the number of cards and players and see when the difference between these two is larger. \n",
    "\n",
    "Compute the mean of the two distributions. When this difference is larger? How does this depends of the total number of players `n`?"
   ]
  },
  {
   "cell_type": "code",
   "execution_count": 53,
   "id": "f0248f84",
   "metadata": {},
   "outputs": [
    {
     "data": {
      "text/html": [
       "<div>\n",
       "<style scoped>\n",
       "    .dataframe tbody tr th:only-of-type {\n",
       "        vertical-align: middle;\n",
       "    }\n",
       "\n",
       "    .dataframe tbody tr th {\n",
       "        vertical-align: top;\n",
       "    }\n",
       "\n",
       "    .dataframe thead th {\n",
       "        text-align: right;\n",
       "    }\n",
       "</style>\n",
       "<table border=\"1\" class=\"dataframe\">\n",
       "  <thead>\n",
       "    <tr style=\"text-align: right;\">\n",
       "      <th></th>\n",
       "      <th>1 card</th>\n",
       "      <th>2 cards</th>\n",
       "      <th>3 cards</th>\n",
       "      <th>4 cards</th>\n",
       "      <th>5 cards</th>\n",
       "      <th>6 cards</th>\n",
       "      <th>7 cards</th>\n",
       "      <th>8 cards</th>\n",
       "      <th>9 cards</th>\n",
       "      <th>10 cards</th>\n",
       "    </tr>\n",
       "  </thead>\n",
       "  <tbody>\n",
       "    <tr>\n",
       "      <td>2 players</td>\n",
       "      <td>1.612</td>\n",
       "      <td>7.430</td>\n",
       "      <td>6.571</td>\n",
       "      <td>5.886</td>\n",
       "      <td>5.320</td>\n",
       "      <td>4.196</td>\n",
       "      <td>3.940</td>\n",
       "      <td>3.287</td>\n",
       "      <td>3.531</td>\n",
       "      <td>2.745</td>\n",
       "    </tr>\n",
       "    <tr>\n",
       "      <td>3 players</td>\n",
       "      <td>0.121</td>\n",
       "      <td>2.980</td>\n",
       "      <td>3.152</td>\n",
       "      <td>2.225</td>\n",
       "      <td>1.714</td>\n",
       "      <td>1.505</td>\n",
       "      <td>1.406</td>\n",
       "      <td>1.097</td>\n",
       "      <td>1.085</td>\n",
       "      <td>0.956</td>\n",
       "    </tr>\n",
       "    <tr>\n",
       "      <td>4 players</td>\n",
       "      <td>0.691</td>\n",
       "      <td>1.483</td>\n",
       "      <td>1.572</td>\n",
       "      <td>1.179</td>\n",
       "      <td>0.951</td>\n",
       "      <td>0.964</td>\n",
       "      <td>0.643</td>\n",
       "      <td>0.754</td>\n",
       "      <td>0.536</td>\n",
       "      <td>0.556</td>\n",
       "    </tr>\n",
       "    <tr>\n",
       "      <td>5 players</td>\n",
       "      <td>0.535</td>\n",
       "      <td>1.161</td>\n",
       "      <td>1.043</td>\n",
       "      <td>0.696</td>\n",
       "      <td>0.518</td>\n",
       "      <td>0.450</td>\n",
       "      <td>0.578</td>\n",
       "      <td>0.540</td>\n",
       "      <td>0.342</td>\n",
       "      <td>0.364</td>\n",
       "    </tr>\n",
       "    <tr>\n",
       "      <td>6 players</td>\n",
       "      <td>0.036</td>\n",
       "      <td>0.617</td>\n",
       "      <td>0.727</td>\n",
       "      <td>0.282</td>\n",
       "      <td>0.513</td>\n",
       "      <td>0.334</td>\n",
       "      <td>0.396</td>\n",
       "      <td>0.136</td>\n",
       "      <td>0.166</td>\n",
       "      <td>0.112</td>\n",
       "    </tr>\n",
       "    <tr>\n",
       "      <td>7 players</td>\n",
       "      <td>0.145</td>\n",
       "      <td>0.609</td>\n",
       "      <td>0.299</td>\n",
       "      <td>0.431</td>\n",
       "      <td>0.313</td>\n",
       "      <td>0.353</td>\n",
       "      <td>0.296</td>\n",
       "      <td>0.101</td>\n",
       "      <td>0.173</td>\n",
       "      <td>0.138</td>\n",
       "    </tr>\n",
       "    <tr>\n",
       "      <td>8 players</td>\n",
       "      <td>0.109</td>\n",
       "      <td>0.110</td>\n",
       "      <td>0.138</td>\n",
       "      <td>0.318</td>\n",
       "      <td>0.080</td>\n",
       "      <td>0.154</td>\n",
       "      <td>0.146</td>\n",
       "      <td>0.124</td>\n",
       "      <td>0.131</td>\n",
       "      <td>0.086</td>\n",
       "    </tr>\n",
       "    <tr>\n",
       "      <td>9 players</td>\n",
       "      <td>0.034</td>\n",
       "      <td>0.375</td>\n",
       "      <td>0.321</td>\n",
       "      <td>0.245</td>\n",
       "      <td>0.210</td>\n",
       "      <td>0.120</td>\n",
       "      <td>0.031</td>\n",
       "      <td>0.102</td>\n",
       "      <td>0.098</td>\n",
       "      <td>0.002</td>\n",
       "    </tr>\n",
       "    <tr>\n",
       "      <td>10 players</td>\n",
       "      <td>0.412</td>\n",
       "      <td>0.389</td>\n",
       "      <td>0.222</td>\n",
       "      <td>0.010</td>\n",
       "      <td>0.195</td>\n",
       "      <td>0.151</td>\n",
       "      <td>0.040</td>\n",
       "      <td>0.090</td>\n",
       "      <td>0.071</td>\n",
       "      <td>0.000</td>\n",
       "    </tr>\n",
       "  </tbody>\n",
       "</table>\n",
       "</div>"
      ],
      "text/plain": [
       "            1 card  2 cards  3 cards  4 cards  5 cards  6 cards  7 cards  \\\n",
       "2 players    1.612    7.430    6.571    5.886    5.320    4.196    3.940   \n",
       "3 players    0.121    2.980    3.152    2.225    1.714    1.505    1.406   \n",
       "4 players    0.691    1.483    1.572    1.179    0.951    0.964    0.643   \n",
       "5 players    0.535    1.161    1.043    0.696    0.518    0.450    0.578   \n",
       "6 players    0.036    0.617    0.727    0.282    0.513    0.334    0.396   \n",
       "7 players    0.145    0.609    0.299    0.431    0.313    0.353    0.296   \n",
       "8 players    0.109    0.110    0.138    0.318    0.080    0.154    0.146   \n",
       "9 players    0.034    0.375    0.321    0.245    0.210    0.120    0.031   \n",
       "10 players   0.412    0.389    0.222    0.010    0.195    0.151    0.040   \n",
       "\n",
       "            8 cards  9 cards  10 cards  \n",
       "2 players     3.287    3.531     2.745  \n",
       "3 players     1.097    1.085     0.956  \n",
       "4 players     0.754    0.536     0.556  \n",
       "5 players     0.540    0.342     0.364  \n",
       "6 players     0.136    0.166     0.112  \n",
       "7 players     0.101    0.173     0.138  \n",
       "8 players     0.124    0.131     0.086  \n",
       "9 players     0.102    0.098     0.002  \n",
       "10 players    0.090    0.071     0.000  "
      ]
     },
     "execution_count": 53,
     "metadata": {},
     "output_type": "execute_result"
    }
   ],
   "source": [
    "# To Do cell\n",
    "n_cands = [i for i in range(2, 11)]\n",
    "k_cands = [j for j in range(1, 11)]\n",
    "samp_means = np.empty([9, 10])\n",
    "for n in n_cands:\n",
    "    for k in k_cands:\n",
    "        # Calculate largest differences\n",
    "        temp_same = largest_gap_same(N, n, k)\n",
    "        temp_diff = largest_gap_diff(N, n, k)\n",
    "        # Save difference in means\n",
    "        samp_means[n - 2, k - 1] = np.absolute(np.mean(temp_diff) - np.mean(temp_same))\n",
    "# Create data frame for results\n",
    "k_cands_col = [str(k) + \" cards\" for k in k_cands]\n",
    "k_cands_col[0] = '1 card'\n",
    "n_cands_row = [str(n) + \" players\" for n in n_cands]\n",
    "sim_df = pd.DataFrame(samp_means, columns = k_cands_col, index = n_cands_row)\n",
    "sim_df"
   ]
  },
  {
   "cell_type": "code",
   "execution_count": 54,
   "id": "e44d490b",
   "metadata": {},
   "outputs": [
    {
     "data": {
      "text/plain": [
       "Text(0.5, 1, 'Difference in Mean by # of Players and Cards')"
      ]
     },
     "execution_count": 54,
     "metadata": {},
     "output_type": "execute_result"
    },
    {
     "data": {
      "image/png": "[encoded data removed]",
      "text/plain": [
       "<Figure size 432x288 with 2 Axes>"
      ]
     },
     "metadata": {
      "needs_background": "light"
     },
     "output_type": "display_data"
    }
   ],
   "source": [
    "cmap = sns.cm.rocket_r\n",
    "sns.heatmap(sim_df, cmap = cmap)\n",
    "plt.title(\"Difference in Mean by # of Players and Cards\")"
   ]
  },
  {
   "cell_type": "markdown",
   "id": "86797da7",
   "metadata": {},
   "source": [
    "Overall, upon examination of the data set and heat map, we see that the difference in means decreases as we increase the number of players. Similarly, the difference in means also decreases as we increase the number of cards. Thus, we see the largest difference when we keep both the number of players and cards small (i.e. 2-3 players with 2-3 cards each)."
   ]
  },
  {
   "cell_type": "markdown",
   "id": "9ebd2fc3",
   "metadata": {
    "user_expressions": []
   },
   "source": [
    "### 3. Deriving distributions\n",
    "\n",
    "For this section, we are going to use the random sampling generating process from _The Mind_ to investigate and find some familiar distributions."
   ]
  },
  {
   "cell_type": "markdown",
   "id": "a915e5a1",
   "metadata": {
    "user_expressions": []
   },
   "source": [
    "### 3.1. Binomial Distribution \n",
    "\n",
    "Can you think about any way of deriving the binomial distribution? Based on the output of one single game (function `sample_game()`), try to derive something that has Binomial distribution for certain parameter $p$. Run multiple simulations to see this and compare the obtained empirical distribution with the distribution of the binomial distribution (check `numpy.random.binomial` and `scipy.stats.binom`). "
   ]
  },
  {
   "cell_type": "code",
   "execution_count": 217,
   "id": "8fe1a5c9",
   "metadata": {},
   "outputs": [],
   "source": [
    "# To Do cell\n",
    "n = 5 # 5 players, 5 cards each:\n",
    "k = 5\n",
    "# Success: the smallest card is less than 5\n",
    "samp_list = []\n",
    "for i in range(samp_size * 10):\n",
    "    count = 0\n",
    "    # n = 10 trials\n",
    "    for j in range(10):\n",
    "        count += (np.min(sample_cards(N, n, k)) < 5)\n",
    "    samp_list.append(count)\n",
    "# p = 1 - [(96 choose 25) / (100 choose 25)]\n",
    "p = 0.69\n",
    "binom_samp = np.random.binomial(10, p, size = samp_size * 10)"
   ]
  },
  {
   "cell_type": "code",
   "execution_count": 218,
   "id": "bc901cad",
   "metadata": {},
   "outputs": [
    {
     "name": "stdout",
     "output_type": "stream",
     "text": [
      "                  0\n",
      "count  10000.000000\n",
      "mean       6.895000\n",
      "std        1.451408\n",
      "min        1.000000\n",
      "25%        6.000000\n",
      "50%        7.000000\n",
      "75%        8.000000\n",
      "max       10.000000\n",
      "                  0\n",
      "count  10000.000000\n",
      "mean       6.907400\n",
      "std        1.447769\n",
      "min        2.000000\n",
      "25%        6.000000\n",
      "50%        7.000000\n",
      "75%        8.000000\n",
      "max       10.000000\n"
     ]
    }
   ],
   "source": [
    "print(pd.DataFrame(samp_list).describe())\n",
    "print(pd.DataFrame(binom_samp).describe())"
   ]
  },
  {
   "cell_type": "code",
   "execution_count": 219,
   "id": "b88e0971",
   "metadata": {},
   "outputs": [
    {
     "data": {
      "text/plain": [
       "<matplotlib.legend.Legend at 0x7fba1acadf98>"
      ]
     },
     "execution_count": 219,
     "metadata": {},
     "output_type": "execute_result"
    },
    {
     "data": {
      "image/png": "[encoded data removed]",
      "text/plain": [
       "<Figure size 432x288 with 1 Axes>"
      ]
     },
     "metadata": {
      "needs_background": "light"
     },
     "output_type": "display_data"
    }
   ],
   "source": [
    "plt.hist(samp_list, range(30), alpha = 0.5, label = \"Sample\")\n",
    "plt.hist(binom_samp, range(30), alpha = 0.5, label = \"Theoretical\")\n",
    "plt.legend(loc='upper right')"
   ]
  },
  {
   "cell_type": "markdown",
   "id": "741e6c9b",
   "metadata": {},
   "source": [
    "We derive the Binomial distribution by having one \"trial\" be whether or not the smallest card in one sample game is less than 5. One sample game will have 5 players with 5 cards each (25 cards total) and we will run 10 trials for each simulation. Thus we have a Binom(10, p = 0.69) distribution (the probability is derived from the code comments above)."
   ]
  },
  {
   "cell_type": "markdown",
   "id": "4baca789",
   "metadata": {
    "user_expressions": []
   },
   "source": [
    "### 3.2. Beta Distribution\n",
    "\n",
    "The [order statistics](https://en.wikipedia.org/wiki/Order_statistic) of the uniform distribution are such that follow a Beta distribution. If well here we are not exactly sampling real numbers in $[0,1]$ following the uniform distribution, you can imagine that sampling one single number without repetition from $\\{ 1, 2, 3, \\ldots, N \\}$ is not very different...\n",
    "\n",
    "Compare the distribution of the lowest number in the sample (Part 1) with a [Beta distribution](https://en.wikipedia.org/wiki/Beta_distribution) with adequate choices of parameters. In order to do this, notice that the $k$th order statistics of a sample of $n$ uniformly distributed points in $[0,1]$ is $\\text{Beta}(k, n+1-k)$ (These $n$ and $k$ are not the same as before, you need to pick the right values of these)."
   ]
  },
  {
   "cell_type": "code",
   "execution_count": 361,
   "id": "8896463a",
   "metadata": {},
   "outputs": [
    {
     "name": "stdout",
     "output_type": "stream",
     "text": [
      "5.2551\n"
     ]
    },
    {
     "data": {
      "image/png": "[encoded data removed]",
      "text/plain": [
       "<Figure size 432x288 with 1 Axes>"
      ]
     },
     "metadata": {
      "needs_background": "light"
     },
     "output_type": "display_data"
    }
   ],
   "source": [
    "# To Do cell\n",
    "n = 6\n",
    "k = 3\n",
    "samp_mins = []\n",
    "for i in range(samp_size * 10):\n",
    "    temp_cards = sample_cards(N, n, k)\n",
    "    samp_mins.append(np.min(temp_cards))\n",
    "plt.hist(samp_mins, range(60))\n",
    "print(np.mean(samp_mins))"
   ]
  },
  {
   "cell_type": "code",
   "execution_count": 362,
   "id": "17de0df8",
   "metadata": {},
   "outputs": [
    {
     "name": "stdout",
     "output_type": "stream",
     "text": [
      "                  0\n",
      "count  10000.000000\n",
      "mean       0.053940\n",
      "std        0.051145\n",
      "min        0.000016\n",
      "25%        0.016094\n",
      "50%        0.038922\n",
      "75%        0.075515\n",
      "max        0.416230\n",
      "                  0\n",
      "count  10000.000000\n",
      "mean       0.052551\n",
      "std        0.045239\n",
      "min        0.010000\n",
      "25%        0.020000\n",
      "50%        0.040000\n",
      "75%        0.070000\n",
      "max        0.400000\n"
     ]
    }
   ],
   "source": [
    "# Divide sample mins by 100 to fit [0, 1] scale\n",
    "beta_samp = np.random.beta(1, 18, size = samp_size * 10)\n",
    "temp_mins =  [samp / 100 for samp in samp_mins]\n",
    "print(pd.DataFrame(beta_samp).describe())\n",
    "print(pd.DataFrame(temp_mins).describe())"
   ]
  },
  {
   "cell_type": "code",
   "execution_count": 363,
   "id": "fc36ca39",
   "metadata": {},
   "outputs": [
    {
     "data": {
      "text/plain": [
       "<matplotlib.legend.Legend at 0x7fba2d749d30>"
      ]
     },
     "execution_count": 363,
     "metadata": {},
     "output_type": "execute_result"
    },
    {
     "data": {
      "image/png": "[encoded data removed]",
      "text/plain": [
       "<Figure size 432x288 with 1 Axes>"
      ]
     },
     "metadata": {
      "needs_background": "light"
     },
     "output_type": "display_data"
    }
   ],
   "source": [
    "plt.hist(temp_mins, np.arange(0, .6, 0.01), alpha = 0.5, label = \"Sample\")\n",
    "plt.hist(beta_samp, np.arange(0, .6, 0.01), alpha = 0.5, label = \"Theoretical\")\n",
    "plt.legend(loc='upper right')"
   ]
  },
  {
   "cell_type": "markdown",
   "id": "a4692bad",
   "metadata": {
    "user_expressions": []
   },
   "source": [
    "### 3.3. Exponential Distribution\n",
    "\n",
    "If we call $U_1$ the minimum number in the sample (Part 1), then make an histogram with the distribution of the transformed random variable given by \n",
    "$$\n",
    "X = - \\ln \\left( 1 - \\frac{U_1}{N} \\right)\n",
    "$$\n",
    "and compare this with the distribution of an exponential random variable with parameter $nk$, the total number of cards in the game. "
   ]
  },
  {
   "cell_type": "code",
   "execution_count": 270,
   "id": "9664e952",
   "metadata": {},
   "outputs": [
    {
     "name": "stdout",
     "output_type": "stream",
     "text": [
      "                  0\n",
      "count  10000.000000\n",
      "mean       0.055756\n",
      "std        0.055151\n",
      "min        0.000005\n",
      "25%        0.016771\n",
      "50%        0.039383\n",
      "75%        0.077319\n",
      "max        0.505240\n",
      "                  0\n",
      "count  10000.000000\n",
      "mean       0.056753\n",
      "std        0.051007\n",
      "min        0.010050\n",
      "25%        0.020203\n",
      "50%        0.040822\n",
      "75%        0.072571\n",
      "max        0.544727\n"
     ]
    }
   ],
   "source": [
    "new_mins = [-np.log(1 - samp / N) for samp in samp_mins]\n",
    "exp_samp = np.random.exponential(1 / (n * k), size = samp_size * 10)\n",
    "print(pd.DataFrame(exp_samp).describe())\n",
    "print(pd.DataFrame(new_mins).describe())"
   ]
  },
  {
   "cell_type": "code",
   "execution_count": 272,
   "id": "b1f20726",
   "metadata": {},
   "outputs": [
    {
     "data": {
      "text/plain": [
       "<matplotlib.legend.Legend at 0x7fba1af6cac8>"
      ]
     },
     "execution_count": 272,
     "metadata": {},
     "output_type": "execute_result"
    },
    {
     "data": {
      "image/png": "[encoded data removed]",
      "text/plain": [
       "<Figure size 432x288 with 1 Axes>"
      ]
     },
     "metadata": {
      "needs_background": "light"
     },
     "output_type": "display_data"
    }
   ],
   "source": [
    "plt.hist(new_mins, alpha = 0.5, label = \"Transformed\")\n",
    "plt.hist(exp_samp, alpha = 0.5, label = \"Exponential\")\n",
    "plt.legend(loc='upper right')"
   ]
  },
  {
   "cell_type": "markdown",
   "id": "21391dfe",
   "metadata": {
    "user_expressions": []
   },
   "source": [
    "### 4. What happens when $n * k << N$?\n",
    "\n",
    "Some of the distribution we saw in previous sections are just approximate. Study what happens when we increase the number of cards. Try to understand how the cases of sampling with and without reposition compare as $n * k << N$. What do you expect to see in these cases? When the difference between the two sampling strategies will lead to similar or different results. "
   ]
  },
  {
   "cell_type": "code",
   "execution_count": 326,
   "id": "cbb309c2",
   "metadata": {},
   "outputs": [],
   "source": [
    "# To Do cell\n",
    "# Alter function to be able to sample with replacement\n",
    "def sample_cards_rep(N, n, k, rep):\n",
    "    \"\"\"\n",
    "    Generates a simulated sample of how the cards are shuffled among players. \n",
    "    \n",
    "    Arguments: \n",
    "        - N : Total number of cards\n",
    "        - n : Number of players\n",
    "        - k : Number of cards per player\n",
    "        \n",
    "    Returns: \n",
    "        - 2D numpy array where each row represent each player and each column their card in ascending order. \n",
    "    \"\"\"\n",
    "    \n",
    "    assert n * k <= N, \"There are not enough cards for all the players!\"\n",
    "    \n",
    "    _cards = np.random.choice(a=np.arange(1, N+1), size=n*k, replace=rep)\n",
    "    _cards = _cards.reshape(n,k)\n",
    "    _cards.sort(axis=1)\n",
    "    return _cards"
   ]
  },
  {
   "cell_type": "markdown",
   "id": "b558fe00",
   "metadata": {},
   "source": [
    "#### N = 100, with Replacement"
   ]
  },
  {
   "cell_type": "code",
   "execution_count": 364,
   "id": "a61bfaff",
   "metadata": {},
   "outputs": [
    {
     "data": {
      "text/plain": [
       "<matplotlib.legend.Legend at 0x7fba2d886ac8>"
      ]
     },
     "execution_count": 364,
     "metadata": {},
     "output_type": "execute_result"
    },
    {
     "data": {
      "image/png": "[encoded data removed]",
      "text/plain": [
       "<Figure size 432x288 with 1 Axes>"
      ]
     },
     "metadata": {
      "needs_background": "light"
     },
     "output_type": "display_data"
    }
   ],
   "source": [
    "# To Do cell\n",
    "n = 5 # 5 players, 5 cards each:\n",
    "k = 5\n",
    "N = 100\n",
    "samp_size = 10000\n",
    "# Success: the smallest card is less than 5\n",
    "samp_lst = []\n",
    "for i in range(samp_size):\n",
    "    count = 0\n",
    "    # n = 10 trials\n",
    "    for j in range(10):\n",
    "        count += (np.min(sample_cards_rep(N, n, k, True)) < 5)\n",
    "    samp_lst.append(count)\n",
    "# p = 1 - [(96 choose 25) / (100 choose 25)]\n",
    "p = 0.69\n",
    "binom_samp = np.random.binomial(10, p, size = samp_size)\n",
    "plt.hist(samp_lst, range(30), alpha = 0.5, label = \"Sample\")\n",
    "plt.hist(binom_samp, range(30), alpha = 0.5, label = \"Theoretical\")\n",
    "plt.legend(loc='upper right')"
   ]
  },
  {
   "cell_type": "markdown",
   "id": "7de55a34",
   "metadata": {},
   "source": [
    "#### N = 100, without Replacement"
   ]
  },
  {
   "cell_type": "code",
   "execution_count": 365,
   "id": "f591d5b7",
   "metadata": {},
   "outputs": [
    {
     "data": {
      "text/plain": [
       "<matplotlib.legend.Legend at 0x7fba2daa2048>"
      ]
     },
     "execution_count": 365,
     "metadata": {},
     "output_type": "execute_result"
    },
    {
     "data": {
      "image/png": "[encoded data removed]",
      "text/plain": [
       "<Figure size 432x288 with 1 Axes>"
      ]
     },
     "metadata": {
      "needs_background": "light"
     },
     "output_type": "display_data"
    }
   ],
   "source": [
    "# To Do cell\n",
    "n = 5 # 5 players, 5 cards each:\n",
    "k = 5\n",
    "N = 100\n",
    "# Success: the smallest card is less than 5\n",
    "samp_lst = []\n",
    "for i in range(samp_size):\n",
    "    count = 0\n",
    "    # n = 10 trials\n",
    "    for j in range(10):\n",
    "        count += (np.min(sample_cards_rep(N, n, k, False)) < 5)\n",
    "    samp_lst.append(count)\n",
    "# p = 1 - [(96 choose 25) / (100 choose 25)]\n",
    "p = 0.69\n",
    "binom_samp = np.random.binomial(10, p, size = samp_size)\n",
    "plt.hist(samp_lst, range(30), alpha = 0.5, label = \"Sample\")\n",
    "plt.hist(binom_samp, range(30), alpha = 0.5, label = \"Theoretical\")\n",
    "plt.legend(loc='upper right')"
   ]
  },
  {
   "cell_type": "markdown",
   "id": "54eedd0c",
   "metadata": {},
   "source": [
    "#### N = 10000, with Replacement"
   ]
  },
  {
   "cell_type": "code",
   "execution_count": 368,
   "id": "8a4ef5a4",
   "metadata": {},
   "outputs": [
    {
     "data": {
      "text/plain": [
       "<matplotlib.legend.Legend at 0x7fb9ebb61a20>"
      ]
     },
     "execution_count": 368,
     "metadata": {},
     "output_type": "execute_result"
    },
    {
     "data": {
      "image/png": "[encoded data removed]",
      "text/plain": [
       "<Figure size 432x288 with 1 Axes>"
      ]
     },
     "metadata": {
      "needs_background": "light"
     },
     "output_type": "display_data"
    }
   ],
   "source": [
    "# To Do cell\n",
    "n = 5 # 5 players, 5 cards each:\n",
    "k = 5\n",
    "N = 10000\n",
    "# Success: the smallest card is less than 5\n",
    "samp_lst = []\n",
    "for i in range(samp_size):\n",
    "    count = 0\n",
    "    # n = 10 trials\n",
    "    for j in range(10):\n",
    "        count += (np.min(sample_cards_rep(N, n, k, True)) < 5)\n",
    "    samp_lst.append(count)\n",
    "# p = 1 - [(96 choose 25) / (100 choose 25)]\n",
    "p = 0.69\n",
    "binom_samp = np.random.binomial(10, p, size = samp_size)\n",
    "plt.hist(samp_lst, range(30), alpha = 0.5, label = \"Sample\")\n",
    "plt.hist(binom_samp, range(30), alpha = 0.5, label = \"Theoretical\")\n",
    "plt.legend(loc='upper right')"
   ]
  },
  {
   "cell_type": "markdown",
   "id": "427b2737",
   "metadata": {},
   "source": [
    "#### N = 10000, without Replacement"
   ]
  },
  {
   "cell_type": "code",
   "execution_count": 371,
   "id": "a6e8cfe5",
   "metadata": {},
   "outputs": [
    {
     "data": {
      "text/plain": [
       "<matplotlib.legend.Legend at 0x7fba2dd35390>"
      ]
     },
     "execution_count": 371,
     "metadata": {},
     "output_type": "execute_result"
    },
    {
     "data": {
      "image/png": "[encoded data removed]",
      "text/plain": [
       "<Figure size 432x288 with 1 Axes>"
      ]
     },
     "metadata": {
      "needs_background": "light"
     },
     "output_type": "display_data"
    }
   ],
   "source": [
    "# To Do cell\n",
    "n = 5 # 5 players, 5 cards each:\n",
    "k = 5\n",
    "N = 10000\n",
    "# Success: the smallest card is less than 5\n",
    "samp_lst = []\n",
    "for i in range(samp_size):\n",
    "    count = 0\n",
    "    # n = 10 trials\n",
    "    for j in range(10):\n",
    "        count += (np.min(sample_cards_rep(N, n, k, False)) < 5)\n",
    "    samp_lst.append(count)\n",
    "# p = 1 - [(96 choose 25) / (100 choose 25)]\n",
    "p = 0.69\n",
    "binom_samp = np.random.binomial(10, p, size = samp_size)\n",
    "plt.hist(samp_lst, range(30), alpha = 0.5, label = \"Sample\")\n",
    "plt.hist(binom_samp, range(30), alpha = 0.5, label = \"Theoretical\")\n",
    "plt.legend(loc='upper right')"
   ]
  },
  {
   "cell_type": "markdown",
   "id": "7b08e669",
   "metadata": {},
   "source": [
    "When N is reasonably small (around 100), we see that the sampled data is able to resemble the target distribution well. If we sample with replacement, this resemblance is not as close as when we sample without replacement, but it still gives us a good representation of the target distribution. At very large N (say 10,000), we are not longer able to properly approximate the target distribution. Furthermore, since N is so much larger than $n * k$, there is no longer any discernable difference between sampling with replacement and sampling without replacement. "
   ]
  },
  {
   "cell_type": "markdown",
   "id": "30b66a1e",
   "metadata": {
    "user_expressions": []
   },
   "source": [
    "### Contribution statement\n",
    "\n",
    "Please include a list of the students you work with along this project (including yourself). Include both names and GitHub usernames of the people you collaborated with. Maximum of three persons per group. \n",
    "- Member No1: Kenneth Chen\n",
    "- Member No2: \n",
    "- Member No3:"
   ]
  }
 ],
 "metadata": {
  "kernelspec": {
   "display_name": "Python 3",
   "language": "python",
   "name": "python3"
  },
  "language_info": {
   "codemirror_mode": {
    "name": "ipython",
    "version": 3
   },
   "file_extension": ".py",
   "mimetype": "text/x-python",
   "name": "python",
   "nbconvert_exporter": "python",
   "pygments_lexer": "ipython3",
   "version": "3.7.4"
  }
 },
 "nbformat": 4,
 "nbformat_minor": 5
}
