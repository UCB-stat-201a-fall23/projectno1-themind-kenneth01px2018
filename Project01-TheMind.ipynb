{
 "cells": [
  {
   "cell_type": "markdown",
   "id": "7e683123",
   "metadata": {
    "user_expressions": []
   },
   "source": [
    "## Project No1 - The Mind\n",
    "\n",
    "Refer to the `README.md` for further information about how to play the game and the objectives for this first project. \n",
    "\n",
    "When writing code, we recommend you to be as modular as possible. For example, if you are running multiple experiments for different choices of parameters, it may be convenient to write a function that does one experiment and then make multiple calls to the same function. Follow the _do not repeat yourself_ rule when writing code! "
   ]
  },
  {
   "cell_type": "code",
   "execution_count": 1,
   "id": "d9b314f8",
   "metadata": {},
   "outputs": [],
   "source": [
    "import numpy as np\n",
    "import matplotlib.pyplot as plt\n",
    "import random\n",
    "import pandas as pd\n",
    "import seaborn as sns\n",
    "import math"
   ]
  },
  {
   "cell_type": "markdown",
   "id": "60012fe2",
   "metadata": {
    "user_expressions": []
   },
   "source": [
    "Let's start by creating a function that generates one sample of the game. Feel free to change this code as you find it suitable, for example by changing how the sampling is created or if you want to sample cards with replacement (this could be useful for the last questions)."
   ]
  },
  {
   "cell_type": "code",
   "execution_count": 2,
   "id": "6b6d26d1",
   "metadata": {},
   "outputs": [],
   "source": [
    "def sample_cards(N, n, k):\n",
    "    \"\"\"\n",
    "    Generates a simulated sample of how the cards are shuffled among players. \n",
    "    \n",
    "    Arguments: \n",
    "        - N : Total number of cards\n",
    "        - n : Number of players\n",
    "        - k : Number of cards per player\n",
    "        \n",
    "    Returns: \n",
    "        - 2D numpy array where each row represent each player and each column their card in ascending order. \n",
    "    \"\"\"\n",
    "    \n",
    "    assert n * k <= N, \"There are not enough cards for all the players!\"\n",
    "    \n",
    "    _cards = np.random.choice(a=np.arange(1, N+1), size=n*k, replace=False)\n",
    "    _cards = _cards.reshape(n,k)\n",
    "    _cards.sort(axis=1)\n",
    "    return _cards"
   ]
  },
  {
   "cell_type": "markdown",
   "id": "427444d2",
   "metadata": {
    "user_expressions": []
   },
   "source": [
    "Now we can just generate how cards are distributed among players by simply making a call to this function with the desired parameters. "
   ]
  },
  {
   "cell_type": "code",
   "execution_count": 3,
   "id": "a41e0cca",
   "metadata": {},
   "outputs": [
    {
     "data": {
      "text/plain": [
       "array([[ 5, 33, 85],\n",
       "       [ 9, 16, 35],\n",
       "       [ 4, 25, 56],\n",
       "       [52, 53, 73],\n",
       "       [54, 68, 90],\n",
       "       [57, 63, 93]])"
      ]
     },
     "execution_count": 3,
     "metadata": {},
     "output_type": "execute_result"
    }
   ],
   "source": [
    "cards = sample_cards(100, 6, 3)\n",
    "cards"
   ]
  },
  {
   "cell_type": "markdown",
   "id": "ce57659e",
   "metadata": {
    "user_expressions": []
   },
   "source": [
    "and access the cards of each player with "
   ]
  },
  {
   "cell_type": "code",
   "execution_count": 4,
   "id": "f6e1bc79",
   "metadata": {},
   "outputs": [
    {
     "data": {
      "text/plain": [
       "(array([ 5, 33, 85]), array([ 9, 16, 35]))"
      ]
     },
     "execution_count": 4,
     "metadata": {},
     "output_type": "execute_result"
    }
   ],
   "source": [
    "player0 = cards[0,:]\n",
    "player1 = cards[1,:]\n",
    "player0, player1"
   ]
  },
  {
   "cell_type": "markdown",
   "id": "f57c60ea",
   "metadata": {
    "user_expressions": []
   },
   "source": [
    "The lowest card in the game is"
   ]
  },
  {
   "cell_type": "code",
   "execution_count": 5,
   "id": "6a8f6af7",
   "metadata": {},
   "outputs": [
    {
     "data": {
      "text/plain": [
       "4"
      ]
     },
     "execution_count": 5,
     "metadata": {},
     "output_type": "execute_result"
    }
   ],
   "source": [
    "np.min(cards)"
   ]
  },
  {
   "cell_type": "code",
   "execution_count": 6,
   "id": "af38b503",
   "metadata": {},
   "outputs": [
    {
     "data": {
      "text/plain": [
       "array([1, 2, 3, 4])"
      ]
     },
     "execution_count": 6,
     "metadata": {},
     "output_type": "execute_result"
    }
   ],
   "source": [
    "np.arange(1, 5)"
   ]
  },
  {
   "cell_type": "markdown",
   "id": "9a021dab",
   "metadata": {
    "user_expressions": []
   },
   "source": [
    "### 1. What is the distribution of the lowest number? \n",
    "\n",
    "Repeat the sampling of the cards multiple times for the same choice of `N`, `n` and `k` and plot the distribution of the lowest number in the sample. Use an [histogram](https://matplotlib.org/stable/api/_as_gen/matplotlib.pyplot.hist.html) to plot the distribution and set the bins to be the available integer number cards. "
   ]
  },
  {
   "cell_type": "code",
   "execution_count": 7,
   "id": "7e37f51e",
   "metadata": {},
   "outputs": [
    {
     "name": "stdout",
     "output_type": "stream",
     "text": [
      "5.593\n"
     ]
    },
    {
     "data": {
      "image/png": "[encoded data removed]",
      "text/plain": [
       "<Figure size 432x288 with 1 Axes>"
      ]
     },
     "metadata": {
      "needs_background": "light"
     },
     "output_type": "display_data"
    }
   ],
   "source": [
    "# To Do cell\n",
    "random.seed(24)\n",
    "N = 100\n",
    "n = 6\n",
    "k = 3\n",
    "samp_size = 1000\n",
    "samp_mins = []\n",
    "for i in range(samp_size):\n",
    "    temp_cards = sample_cards(N, n, k)\n",
    "    samp_mins.append(np.min(temp_cards))\n",
    "plt.hist(samp_mins, range(1, N))\n",
    "print(np.mean(samp_mins))"
   ]
  },
  {
   "cell_type": "markdown",
   "id": "c238b300",
   "metadata": {
    "user_expressions": []
   },
   "source": [
    "### 2. What is the distribution of the largest gap?\n",
    "\n",
    "For each simulation, found the largest distance between consecutive numbers in the game. To make this easy, let us first consider the largest gap among the pool of **all** the cards among players (if the largest gap is happening in the hand of one single player, that is ok). This will make the analysis more simple. "
   ]
  },
  {
   "cell_type": "code",
   "execution_count": 8,
   "id": "269f66c3",
   "metadata": {},
   "outputs": [
    {
     "name": "stdout",
     "output_type": "stream",
     "text": [
      "17.267\n"
     ]
    },
    {
     "data": {
      "image/png": "[encoded data removed]",
      "text/plain": [
       "<Figure size 432x288 with 1 Axes>"
      ]
     },
     "metadata": {
      "needs_background": "light"
     },
     "output_type": "display_data"
    }
   ],
   "source": [
    "# To Do cell\n",
    "def largest_gap_same(N, n, k, samp_size = 1000):\n",
    "    samp_dist = []\n",
    "    for i in range(samp_size):\n",
    "        temp_cards = sample_cards(N, n, k)\n",
    "        # flatten, sort, and find largest distance\n",
    "        temp = temp_cards.flatten()\n",
    "        temp.sort()\n",
    "        samp_dist.append(max(np.diff(temp)))\n",
    "    return samp_dist\n",
    "one_samp_same = largest_gap_same(N, n, k)\n",
    "plt.hist(one_samp_same, range(1, N))\n",
    "print(np.mean(one_samp_same))"
   ]
  },
  {
   "cell_type": "markdown",
   "id": "67a998f9",
   "metadata": {
    "user_expressions": []
   },
   "source": [
    "Repeat the experiment but know compute the largest gap between cards of different players. This is the gap that actually matters for the purposes of the game: what is the maximum number of numbers that a player will have to wait before playing the next card?"
   ]
  },
  {
   "cell_type": "code",
   "execution_count": 9,
   "id": "da76b5cb",
   "metadata": {},
   "outputs": [],
   "source": [
    "# def largest_gap_diff(N, n, k, samp_size = 1000):\n",
    "#     samp_gaps = []\n",
    "#     for i in range(samp_size):\n",
    "#         temp_cards = sample_cards(N, n, k)\n",
    "#         # Index for player cards\n",
    "#         player_card = np.zeros(n)\n",
    "#         gaps = []\n",
    "#         # While any player still hasn't used up all k cards\n",
    "#         while any(player_card < k):\n",
    "#             temp_mins = []\n",
    "#             idx = 0\n",
    "#             for card in player_card:\n",
    "#                 # If player still hasn't played card\n",
    "#                 if card < k:\n",
    "#                     # Add min of each player's hand\n",
    "#                     temp_mins.append(temp_cards[idx, int(card)])\n",
    "#                 idx += 1\n",
    "#             temp_min = np.min(temp_mins)\n",
    "#             # Store largest gap\n",
    "#             gaps.append(np.max(temp_mins - temp_min))\n",
    "#             # Increment player with smallest card\n",
    "#             for j in range(0, n):\n",
    "#                 card = int(player_card[j])\n",
    "#                 if card >= k:\n",
    "#                     next\n",
    "#                 elif temp_cards[j, card] == temp_min:\n",
    "#                     player_card[j] += 1\n",
    "#         samp_gaps.append(np.max(gaps))\n",
    "#     return samp_gaps\n",
    "# one_samp_diff = largest_gap_diff(N, n, k)\n",
    "# np.mean(one_samp_diff)            "
   ]
  },
  {
   "cell_type": "code",
   "execution_count": 10,
   "id": "d024a2a5",
   "metadata": {},
   "outputs": [
    {
     "data": {
      "text/plain": [
       "16.576"
      ]
     },
     "execution_count": 10,
     "metadata": {},
     "output_type": "execute_result"
    }
   ],
   "source": [
    "N = 100\n",
    "n = 6\n",
    "k = 3\n",
    "def largest_gap_diff(N, n, k, samp_size = 1000):\n",
    "    samp_gaps = []\n",
    "    for _ in range(samp_size):\n",
    "        temp = sample_cards(N, n, k)\n",
    "        # Create index of players\n",
    "        lst = []\n",
    "        for i in range(n):\n",
    "            for j in range(k):\n",
    "                lst.append(i)\n",
    "        # Create data frame with two cols: 1. flattened sample 2. corresponding player idx \n",
    "        df = pd.DataFrame({'card': temp.flatten(), 'player': lst})\n",
    "        # Sort by card value and then difference both columns\n",
    "        df = df.sort_values(by = ['card']).diff().tail(-1)\n",
    "        # Remove consecutive cards from same players and find max\n",
    "        largest_gap = np.max(df.loc[df['player'] != 0, \"card\"])\n",
    "        samp_gaps.append(largest_gap)\n",
    "    return samp_gaps\n",
    "one_samp_diff = largest_gap_diff(N, n, k)\n",
    "np.mean(one_samp_diff)  "
   ]
  },
  {
   "cell_type": "code",
   "execution_count": 11,
   "id": "58e09d9d",
   "metadata": {},
   "outputs": [
    {
     "data": {
      "text/plain": [
       "(array([ 0.,  0.,  0.,  0.,  0.,  0.,  0.,  1.,  4., 12., 31., 53., 74.,\n",
       "        95., 87., 98., 89., 87., 88., 60., 46., 47., 32., 24., 17., 11.,\n",
       "         7., 13.,  4., 10.,  4.,  2.,  1.,  1.,  1.,  0.,  1.,  0.,  0.,\n",
       "         0.,  0.,  0.,  0.,  0.,  0.,  0.,  0.,  0.,  0.,  0.,  0.,  0.,\n",
       "         0.,  0.,  0.,  0.,  0.,  0.,  0.,  0.,  0.,  0.,  0.,  0.,  0.,\n",
       "         0.,  0.,  0.,  0.,  0.,  0.,  0.,  0.,  0.,  0.,  0.,  0.,  0.,\n",
       "         0.,  0.,  0.,  0.,  0.,  0.,  0.,  0.,  0.,  0.,  0.,  0.,  0.,\n",
       "         0.,  0.,  0.,  0.,  0.,  0.,  0.,  0.]),\n",
       " array([ 0,  1,  2,  3,  4,  5,  6,  7,  8,  9, 10, 11, 12, 13, 14, 15, 16,\n",
       "        17, 18, 19, 20, 21, 22, 23, 24, 25, 26, 27, 28, 29, 30, 31, 32, 33,\n",
       "        34, 35, 36, 37, 38, 39, 40, 41, 42, 43, 44, 45, 46, 47, 48, 49, 50,\n",
       "        51, 52, 53, 54, 55, 56, 57, 58, 59, 60, 61, 62, 63, 64, 65, 66, 67,\n",
       "        68, 69, 70, 71, 72, 73, 74, 75, 76, 77, 78, 79, 80, 81, 82, 83, 84,\n",
       "        85, 86, 87, 88, 89, 90, 91, 92, 93, 94, 95, 96, 97, 98, 99]),\n",
       " <a list of 99 Patch objects>)"
      ]
     },
     "execution_count": 11,
     "metadata": {},
     "output_type": "execute_result"
    },
    {
     "data": {
      "image/png": "[encoded data removed]",
      "text/plain": [
       "<Figure size 432x288 with 1 Axes>"
      ]
     },
     "metadata": {
      "needs_background": "light"
     },
     "output_type": "display_data"
    }
   ],
   "source": [
    "plt.hist(one_samp_diff, range(N))"
   ]
  },
  {
   "cell_type": "code",
   "execution_count": 12,
   "id": "d90518b3",
   "metadata": {},
   "outputs": [
    {
     "data": {
      "text/plain": [
       "<matplotlib.legend.Legend at 0x7fbf0eac7790>"
      ]
     },
     "execution_count": 12,
     "metadata": {},
     "output_type": "execute_result"
    },
    {
     "data": {
      "image/png": "[encoded data removed]",
      "text/plain": [
       "<Figure size 432x288 with 1 Axes>"
      ]
     },
     "metadata": {
      "needs_background": "light"
     },
     "output_type": "display_data"
    }
   ],
   "source": [
    "plt.hist(one_samp_same, range(N), alpha = 0.5, label = \"Same player\")\n",
    "plt.hist(one_samp_diff, range(N), alpha = 0.5, label = \"Different player\")\n",
    "plt.legend(loc='upper right')"
   ]
  },
  {
   "cell_type": "markdown",
   "id": "6d9d8267",
   "metadata": {
    "user_expressions": []
   },
   "source": [
    "How does these compare? Run simulations for different choices of the number of cards and players and see when the difference between these two is larger. \n",
    "\n",
    "Compute the mean of the two distributions. When this difference is larger? How does this depends of the total number of players `n`?"
   ]
  },
  {
   "cell_type": "code",
   "execution_count": 13,
   "id": "5f54b78b",
   "metadata": {},
   "outputs": [
    {
     "data": {
      "text/html": [
       "<div>\n",
       "<style scoped>\n",
       "    .dataframe tbody tr th:only-of-type {\n",
       "        vertical-align: middle;\n",
       "    }\n",
       "\n",
       "    .dataframe tbody tr th {\n",
       "        vertical-align: top;\n",
       "    }\n",
       "\n",
       "    .dataframe thead th {\n",
       "        text-align: right;\n",
       "    }\n",
       "</style>\n",
       "<table border=\"1\" class=\"dataframe\">\n",
       "  <thead>\n",
       "    <tr style=\"text-align: right;\">\n",
       "      <th></th>\n",
       "      <th>1 card</th>\n",
       "      <th>2 cards</th>\n",
       "      <th>3 cards</th>\n",
       "      <th>4 cards</th>\n",
       "      <th>5 cards</th>\n",
       "      <th>6 cards</th>\n",
       "      <th>7 cards</th>\n",
       "      <th>8 cards</th>\n",
       "      <th>9 cards</th>\n",
       "      <th>10 cards</th>\n",
       "    </tr>\n",
       "  </thead>\n",
       "  <tbody>\n",
       "    <tr>\n",
       "      <td>2 players</td>\n",
       "      <td>1.383</td>\n",
       "      <td>5.793</td>\n",
       "      <td>7.244</td>\n",
       "      <td>6.178</td>\n",
       "      <td>5.706</td>\n",
       "      <td>4.042</td>\n",
       "      <td>3.831</td>\n",
       "      <td>3.785</td>\n",
       "      <td>3.007</td>\n",
       "      <td>2.778</td>\n",
       "    </tr>\n",
       "    <tr>\n",
       "      <td>3 players</td>\n",
       "      <td>0.857</td>\n",
       "      <td>2.337</td>\n",
       "      <td>2.382</td>\n",
       "      <td>1.763</td>\n",
       "      <td>2.264</td>\n",
       "      <td>1.691</td>\n",
       "      <td>0.797</td>\n",
       "      <td>1.135</td>\n",
       "      <td>1.067</td>\n",
       "      <td>0.988</td>\n",
       "    </tr>\n",
       "    <tr>\n",
       "      <td>4 players</td>\n",
       "      <td>0.504</td>\n",
       "      <td>2.278</td>\n",
       "      <td>1.459</td>\n",
       "      <td>1.173</td>\n",
       "      <td>0.646</td>\n",
       "      <td>0.903</td>\n",
       "      <td>0.546</td>\n",
       "      <td>0.713</td>\n",
       "      <td>0.638</td>\n",
       "      <td>0.495</td>\n",
       "    </tr>\n",
       "    <tr>\n",
       "      <td>5 players</td>\n",
       "      <td>0.156</td>\n",
       "      <td>0.982</td>\n",
       "      <td>0.905</td>\n",
       "      <td>0.805</td>\n",
       "      <td>0.552</td>\n",
       "      <td>0.567</td>\n",
       "      <td>0.388</td>\n",
       "      <td>0.389</td>\n",
       "      <td>0.371</td>\n",
       "      <td>0.285</td>\n",
       "    </tr>\n",
       "    <tr>\n",
       "      <td>6 players</td>\n",
       "      <td>0.139</td>\n",
       "      <td>0.776</td>\n",
       "      <td>0.628</td>\n",
       "      <td>0.343</td>\n",
       "      <td>0.641</td>\n",
       "      <td>0.187</td>\n",
       "      <td>0.269</td>\n",
       "      <td>0.350</td>\n",
       "      <td>0.210</td>\n",
       "      <td>0.103</td>\n",
       "    </tr>\n",
       "    <tr>\n",
       "      <td>7 players</td>\n",
       "      <td>0.286</td>\n",
       "      <td>1.345</td>\n",
       "      <td>0.080</td>\n",
       "      <td>0.395</td>\n",
       "      <td>0.421</td>\n",
       "      <td>0.279</td>\n",
       "      <td>0.106</td>\n",
       "      <td>0.222</td>\n",
       "      <td>0.090</td>\n",
       "      <td>0.156</td>\n",
       "    </tr>\n",
       "    <tr>\n",
       "      <td>8 players</td>\n",
       "      <td>0.797</td>\n",
       "      <td>0.687</td>\n",
       "      <td>0.308</td>\n",
       "      <td>0.161</td>\n",
       "      <td>0.182</td>\n",
       "      <td>0.244</td>\n",
       "      <td>0.220</td>\n",
       "      <td>0.112</td>\n",
       "      <td>0.014</td>\n",
       "      <td>0.069</td>\n",
       "    </tr>\n",
       "    <tr>\n",
       "      <td>9 players</td>\n",
       "      <td>0.413</td>\n",
       "      <td>0.063</td>\n",
       "      <td>0.031</td>\n",
       "      <td>0.080</td>\n",
       "      <td>0.124</td>\n",
       "      <td>0.131</td>\n",
       "      <td>0.047</td>\n",
       "      <td>0.112</td>\n",
       "      <td>0.073</td>\n",
       "      <td>0.030</td>\n",
       "    </tr>\n",
       "    <tr>\n",
       "      <td>10 players</td>\n",
       "      <td>0.936</td>\n",
       "      <td>0.153</td>\n",
       "      <td>0.139</td>\n",
       "      <td>0.148</td>\n",
       "      <td>0.132</td>\n",
       "      <td>0.076</td>\n",
       "      <td>0.098</td>\n",
       "      <td>0.057</td>\n",
       "      <td>0.020</td>\n",
       "      <td>0.000</td>\n",
       "    </tr>\n",
       "  </tbody>\n",
       "</table>\n",
       "</div>"
      ],
      "text/plain": [
       "            1 card  2 cards  3 cards  4 cards  5 cards  6 cards  7 cards  \\\n",
       "2 players    1.383    5.793    7.244    6.178    5.706    4.042    3.831   \n",
       "3 players    0.857    2.337    2.382    1.763    2.264    1.691    0.797   \n",
       "4 players    0.504    2.278    1.459    1.173    0.646    0.903    0.546   \n",
       "5 players    0.156    0.982    0.905    0.805    0.552    0.567    0.388   \n",
       "6 players    0.139    0.776    0.628    0.343    0.641    0.187    0.269   \n",
       "7 players    0.286    1.345    0.080    0.395    0.421    0.279    0.106   \n",
       "8 players    0.797    0.687    0.308    0.161    0.182    0.244    0.220   \n",
       "9 players    0.413    0.063    0.031    0.080    0.124    0.131    0.047   \n",
       "10 players   0.936    0.153    0.139    0.148    0.132    0.076    0.098   \n",
       "\n",
       "            8 cards  9 cards  10 cards  \n",
       "2 players     3.785    3.007     2.778  \n",
       "3 players     1.135    1.067     0.988  \n",
       "4 players     0.713    0.638     0.495  \n",
       "5 players     0.389    0.371     0.285  \n",
       "6 players     0.350    0.210     0.103  \n",
       "7 players     0.222    0.090     0.156  \n",
       "8 players     0.112    0.014     0.069  \n",
       "9 players     0.112    0.073     0.030  \n",
       "10 players    0.057    0.020     0.000  "
      ]
     },
     "execution_count": 13,
     "metadata": {},
     "output_type": "execute_result"
    }
   ],
   "source": [
    "# To Do cell\n",
    "n_cands = [i for i in range(2, 11)]\n",
    "k_cands = [j for j in range(1, 11)]\n",
    "samp_means = np.empty([9, 10])\n",
    "for n in n_cands:\n",
    "    for k in k_cands:\n",
    "        # Calculate largest differences\n",
    "        temp_same = largest_gap_same(N, n, k)\n",
    "        temp_diff = largest_gap_diff(N, n, k)\n",
    "        # Save difference in means\n",
    "        samp_means[n - 2, k - 1] = np.absolute(np.mean(temp_diff) - np.mean(temp_same))\n",
    "# Create data frame for results\n",
    "k_cands_col = [str(k) + \" cards\" for k in k_cands]\n",
    "k_cands_col[0] = '1 card'\n",
    "n_cands_row = [str(n) + \" players\" for n in n_cands]\n",
    "sim_df = pd.DataFrame(samp_means, columns = k_cands_col, index = n_cands_row)\n",
    "sim_df"
   ]
  },
  {
   "cell_type": "code",
   "execution_count": 14,
   "id": "8305e45a",
   "metadata": {},
   "outputs": [
    {
     "data": {
      "text/plain": [
       "Text(0.5, 1, 'Difference in Mean by # of Players and Cards')"
      ]
     },
     "execution_count": 14,
     "metadata": {},
     "output_type": "execute_result"
    },
    {
     "data": {
      "image/png": "[encoded data removed]",
      "text/plain": [
       "<Figure size 432x288 with 2 Axes>"
      ]
     },
     "metadata": {
      "needs_background": "light"
     },
     "output_type": "display_data"
    }
   ],
   "source": [
    "cmap = sns.cm.rocket_r\n",
    "sns.heatmap(sim_df, cmap = cmap)\n",
    "plt.title(\"Difference in Mean by # of Players and Cards\")"
   ]
  },
  {
   "cell_type": "markdown",
   "id": "ffeb8082",
   "metadata": {},
   "source": [
    "Overall, upon examination of the data set and heat map, we see that the difference in means decreases as we increase the number of players. Similarly, the difference in means also decreases as we increase the number of cards. Thus, we see the largest difference when we keep both the number of players and cards small (i.e. 2-3 players with 2-3 cards each)."
   ]
  },
  {
   "cell_type": "markdown",
   "id": "f9841659",
   "metadata": {
    "user_expressions": []
   },
   "source": [
    "### 3. Deriving distributions\n",
    "\n",
    "For this section, we are going to use the random sampling generating process from _The Mind_ to investigate and find some familiar distributions."
   ]
  },
  {
   "cell_type": "markdown",
   "id": "3c702090",
   "metadata": {
    "user_expressions": []
   },
   "source": [
    "### 3.1. Binomial Distribution \n",
    "\n",
    "Can you think about any way of deriving the binomial distribution? Based on the output of one single game (function `sample_game()`), try to derive something that has Binomial distribution for certain parameter $p$. Run multiple simulations to see this and compare the obtained empirical distribution with the distribution of the binomial distribution (check `numpy.random.binomial` and `scipy.stats.binom`). "
   ]
  },
  {
   "cell_type": "code",
   "execution_count": 15,
   "id": "bcf484f8",
   "metadata": {},
   "outputs": [],
   "source": [
    "# To Do cell\n",
    "n = 5 # 5 players, 5 cards each:\n",
    "k = 5\n",
    "# Success: the smallest card is less than 5\n",
    "samp_list = []\n",
    "for i in range(samp_size * 10):\n",
    "    count = 0\n",
    "    # n = 10 trials\n",
    "    for j in range(10):\n",
    "        count += (np.min(sample_cards(N, n, k)) < 5)\n",
    "    samp_list.append(count)\n",
    "# p = 1 - [(96 choose 25) / (100 choose 25)]\n",
    "p = 0.69\n",
    "binom_samp = np.random.binomial(10, p, size = samp_size * 10)"
   ]
  },
  {
   "cell_type": "code",
   "execution_count": 16,
   "id": "fe7877eb",
   "metadata": {},
   "outputs": [
    {
     "name": "stdout",
     "output_type": "stream",
     "text": [
      "                  0\n",
      "count  10000.000000\n",
      "mean       6.867200\n",
      "std        1.451129\n",
      "min        1.000000\n",
      "25%        6.000000\n",
      "50%        7.000000\n",
      "75%        8.000000\n",
      "max       10.000000\n",
      "                  0\n",
      "count  10000.000000\n",
      "mean       6.899700\n",
      "std        1.481776\n",
      "min        1.000000\n",
      "25%        6.000000\n",
      "50%        7.000000\n",
      "75%        8.000000\n",
      "max       10.000000\n"
     ]
    }
   ],
   "source": [
    "print(pd.DataFrame(samp_list).describe())\n",
    "print(pd.DataFrame(binom_samp).describe())"
   ]
  },
  {
   "cell_type": "code",
   "execution_count": 17,
   "id": "ff41ef2f",
   "metadata": {},
   "outputs": [
    {
     "data": {
      "text/plain": [
       "<matplotlib.legend.Legend at 0x7fbf0eefad50>"
      ]
     },
     "execution_count": 17,
     "metadata": {},
     "output_type": "execute_result"
    },
    {
     "data": {
      "image/png": "[encoded data removed]",
      "text/plain": [
       "<Figure size 432x288 with 1 Axes>"
      ]
     },
     "metadata": {
      "needs_background": "light"
     },
     "output_type": "display_data"
    }
   ],
   "source": [
    "plt.hist(samp_list, range(30), alpha = 0.5, label = \"Sample\")\n",
    "plt.hist(binom_samp, range(30), alpha = 0.5, label = \"Theoretical\")\n",
    "plt.legend(loc='upper right')"
   ]
  },
  {
   "cell_type": "markdown",
   "id": "9186096e",
   "metadata": {},
   "source": [
    "We derive the Binomial distribution by having one \"trial\" be whether or not the smallest card in one sample game is less than 5. One sample game will have 5 players with 5 cards each (25 cards total) and we will run 10 trials for each simulation. Thus we have a Binom(10, p = 0.69) distribution (the probability is derived from the code comments above)."
   ]
  },
  {
   "cell_type": "markdown",
   "id": "c6fba14c",
   "metadata": {
    "user_expressions": []
   },
   "source": [
    "### 3.2. Beta Distribution\n",
    "\n",
    "The [order statistics](https://en.wikipedia.org/wiki/Order_statistic) of the uniform distribution are such that follow a Beta distribution. If well here we are not exactly sampling real numbers in $[0,1]$ following the uniform distribution, you can imagine that sampling one single number without repetition from $\\{ 1, 2, 3, \\ldots, N \\}$ is not very different...\n",
    "\n",
    "Compare the distribution of the lowest number in the sample (Part 1) with a [Beta distribution](https://en.wikipedia.org/wiki/Beta_distribution) with adequate choices of parameters. In order to do this, notice that the $k$th order statistics of a sample of $n$ uniformly distributed points in $[0,1]$ is $\\text{Beta}(k, n+1-k)$ (These $n$ and $k$ are not the same as before, you need to pick the right values of these)."
   ]
  },
  {
   "cell_type": "code",
   "execution_count": 18,
   "id": "a54dff38",
   "metadata": {},
   "outputs": [
    {
     "name": "stdout",
     "output_type": "stream",
     "text": [
      "5.3065\n"
     ]
    },
    {
     "data": {
      "image/png": "[encoded data removed]",
      "text/plain": [
       "<Figure size 432x288 with 1 Axes>"
      ]
     },
     "metadata": {
      "needs_background": "light"
     },
     "output_type": "display_data"
    }
   ],
   "source": [
    "# To Do cell\n",
    "n = 6\n",
    "k = 3\n",
    "samp_mins = []\n",
    "for i in range(samp_size * 10):\n",
    "    temp_cards = sample_cards(N, n, k)\n",
    "    samp_mins.append(np.min(temp_cards))\n",
    "plt.hist(samp_mins, range(60))\n",
    "print(np.mean(samp_mins))"
   ]
  },
  {
   "cell_type": "code",
   "execution_count": 19,
   "id": "0067de37",
   "metadata": {},
   "outputs": [
    {
     "name": "stdout",
     "output_type": "stream",
     "text": [
      "                  0\n",
      "count  10000.000000\n",
      "mean       0.052213\n",
      "std        0.049852\n",
      "min        0.000011\n",
      "25%        0.015678\n",
      "50%        0.037835\n",
      "75%        0.073190\n",
      "max        0.440724\n",
      "                  0\n",
      "count  10000.000000\n",
      "mean       0.053065\n",
      "std        0.045629\n",
      "min        0.010000\n",
      "25%        0.020000\n",
      "50%        0.040000\n",
      "75%        0.070000\n",
      "max        0.380000\n"
     ]
    }
   ],
   "source": [
    "# Divide sample mins by 100 to fit [0, 1] scale\n",
    "beta_samp = np.random.beta(1, 18, size = samp_size * 10)\n",
    "temp_mins =  [samp / 100 for samp in samp_mins]\n",
    "print(pd.DataFrame(beta_samp).describe())\n",
    "print(pd.DataFrame(temp_mins).describe())"
   ]
  },
  {
   "cell_type": "code",
   "execution_count": 20,
   "id": "0eeb3653",
   "metadata": {},
   "outputs": [
    {
     "data": {
      "text/plain": [
       "<matplotlib.legend.Legend at 0x7fbf0f35c7d0>"
      ]
     },
     "execution_count": 20,
     "metadata": {},
     "output_type": "execute_result"
    },
    {
     "data": {
      "image/png": "[encoded data removed]",
      "text/plain": [
       "<Figure size 432x288 with 1 Axes>"
      ]
     },
     "metadata": {
      "needs_background": "light"
     },
     "output_type": "display_data"
    }
   ],
   "source": [
    "plt.hist(temp_mins, np.arange(0, .6, 0.01), alpha = 0.5, label = \"Sample\")\n",
    "plt.hist(beta_samp, np.arange(0, .6, 0.01), alpha = 0.5, label = \"Theoretical\")\n",
    "plt.legend(loc='upper right')"
   ]
  },
  {
   "cell_type": "markdown",
   "id": "32b76bb6",
   "metadata": {
    "user_expressions": []
   },
   "source": [
    "### 3.3. Exponential Distribution\n",
    "\n",
    "If we call $U_1$ the minimum number in the sample (Part 1), then make an histogram with the distribution of the transformed random variable given by \n",
    "$$\n",
    "X = - \\ln \\left( 1 - \\frac{U_1}{N} \\right)\n",
    "$$\n",
    "and compare this with the distribution of an exponential random variable with parameter $nk$, the total number of cards in the game. "
   ]
  },
  {
   "cell_type": "code",
   "execution_count": 21,
   "id": "1e3ef81c",
   "metadata": {},
   "outputs": [
    {
     "name": "stdout",
     "output_type": "stream",
     "text": [
      "                  0\n",
      "count  10000.000000\n",
      "mean       0.055417\n",
      "std        0.056047\n",
      "min        0.000006\n",
      "25%        0.015936\n",
      "50%        0.038184\n",
      "75%        0.076104\n",
      "max        0.509693\n",
      "                  0\n",
      "count  10000.000000\n",
      "mean       0.055760\n",
      "std        0.050526\n",
      "min        0.010050\n",
      "25%        0.020203\n",
      "50%        0.040822\n",
      "75%        0.072571\n",
      "max        0.478036\n"
     ]
    }
   ],
   "source": [
    "new_mins = [-np.log(1 - samp / N) for samp in samp_mins]\n",
    "exp_samp = np.random.exponential(1 / (n * k), size = samp_size * 10)\n",
    "print(pd.DataFrame(exp_samp).describe())\n",
    "print(pd.DataFrame(new_mins).describe())"
   ]
  },
  {
   "cell_type": "code",
   "execution_count": 22,
   "id": "dbdbf51a",
   "metadata": {},
   "outputs": [
    {
     "data": {
      "text/plain": [
       "<matplotlib.legend.Legend at 0x7fbf0f5f7cd0>"
      ]
     },
     "execution_count": 22,
     "metadata": {},
     "output_type": "execute_result"
    },
    {
     "data": {
      "image/png": "[encoded data removed]",
      "text/plain": [
       "<Figure size 432x288 with 1 Axes>"
      ]
     },
     "metadata": {
      "needs_background": "light"
     },
     "output_type": "display_data"
    }
   ],
   "source": [
    "plt.hist(new_mins, alpha = 0.5, label = \"Transformed\")\n",
    "plt.hist(exp_samp, alpha = 0.5, label = \"Exponential\")\n",
    "plt.legend(loc='upper right')"
   ]
  },
  {
   "cell_type": "markdown",
   "id": "ac91df3c",
   "metadata": {
    "user_expressions": []
   },
   "source": [
    "### 4. What happens when $n * k << N$?\n",
    "\n",
    "Some of the distribution we saw in previous sections are just approximate. Study what happens when we increase the number of cards. Try to understand how the cases of sampling with and without reposition compare as $n * k << N$. What do you expect to see in these cases? When the difference between the two sampling strategies will lead to similar or different results. "
   ]
  },
  {
   "cell_type": "code",
   "execution_count": 23,
   "id": "48d949e9",
   "metadata": {},
   "outputs": [],
   "source": [
    "# To Do cell\n",
    "# Alter function to be able to sample with replacement\n",
    "def sample_cards_rep(N, n, k, rep):\n",
    "    \"\"\"\n",
    "    Generates a simulated sample of how the cards are shuffled among players. \n",
    "    \n",
    "    Arguments: \n",
    "        - N : Total number of cards\n",
    "        - n : Number of players\n",
    "        - k : Number of cards per player\n",
    "        \n",
    "    Returns: \n",
    "        - 2D numpy array where each row represent each player and each column their card in ascending order. \n",
    "    \"\"\"\n",
    "    \n",
    "    assert n * k <= N, \"There are not enough cards for all the players!\"\n",
    "    \n",
    "    _cards = np.random.choice(a=np.arange(1, N+1), size=n*k, replace=rep)\n",
    "    _cards = _cards.reshape(n,k)\n",
    "    _cards.sort(axis=1)\n",
    "    return _cards"
   ]
  },
  {
   "cell_type": "markdown",
   "id": "27e85bbe",
   "metadata": {},
   "source": [
    "#### N = 50, with Replacement"
   ]
  },
  {
   "cell_type": "code",
   "execution_count": 26,
   "id": "e4c01849",
   "metadata": {},
   "outputs": [
    {
     "data": {
      "text/plain": [
       "<matplotlib.legend.Legend at 0x7fbf0edca9d0>"
      ]
     },
     "execution_count": 26,
     "metadata": {},
     "output_type": "execute_result"
    },
    {
     "data": {
      "image/png": "[encoded data removed]",
      "text/plain": [
       "<Figure size 432x288 with 1 Axes>"
      ]
     },
     "metadata": {
      "needs_background": "light"
     },
     "output_type": "display_data"
    }
   ],
   "source": [
    "# To Do cell\n",
    "n = 5 # 5 players, 5 cards each:\n",
    "k = 5\n",
    "N = 50\n",
    "samp_size = 10000\n",
    "# Success: the smallest card is less than 5\n",
    "samp_lst = []\n",
    "for i in range(samp_size):\n",
    "    count = 0\n",
    "    # n = 10 trials\n",
    "    for j in range(10):\n",
    "        count += (np.min(sample_cards_rep(N, n, k, True)) < 5)\n",
    "    samp_lst.append(count)\n",
    "# p = 1 - [(46 choose 25) / (50 choose 25)]\n",
    "p = 0.95\n",
    "binom_samp = np.random.binomial(10, p, size = samp_size)\n",
    "plt.hist(samp_lst, range(30), alpha = 0.5, label = \"Sample\")\n",
    "plt.hist(binom_samp, range(30), alpha = 0.5, label = \"Theoretical\")\n",
    "plt.legend(loc='upper right')"
   ]
  },
  {
   "cell_type": "markdown",
   "id": "28b7644a",
   "metadata": {},
   "source": [
    "#### N = 25, without Replacement"
   ]
  },
  {
   "cell_type": "code",
   "execution_count": 31,
   "id": "209e3206",
   "metadata": {},
   "outputs": [
    {
     "data": {
      "text/plain": [
       "<matplotlib.legend.Legend at 0x7fbf0fe986d0>"
      ]
     },
     "execution_count": 31,
     "metadata": {},
     "output_type": "execute_result"
    },
    {
     "data": {
      "image/png": "[encoded data removed]",
      "text/plain": [
       "<Figure size 432x288 with 1 Axes>"
      ]
     },
     "metadata": {
      "needs_background": "light"
     },
     "output_type": "display_data"
    }
   ],
   "source": [
    "# To Do cell\n",
    "n = 5 # 5 players, 5 cards each:\n",
    "k = 5\n",
    "N = 50\n",
    "# Success: the smallest card is less than 5\n",
    "samp_lst = []\n",
    "for i in range(samp_size):\n",
    "    count = 0\n",
    "    # n = 10 trials\n",
    "    for j in range(10):\n",
    "        count += (np.min(sample_cards_rep(N, n, k, False)) < 5)\n",
    "    samp_lst.append(count)\n",
    "# p = 1 - [(46 choose 25) / (50 choose 25)]\n",
    "p = 0.95\n",
    "binom_samp = np.random.binomial(10, p, size = samp_size)\n",
    "plt.hist(samp_lst, range(30), alpha = 0.5, label = \"Sample\")\n",
    "plt.hist(binom_samp, range(30), alpha = 0.5, label = \"Theoretical\")\n",
    "plt.legend(loc='upper right')"
   ]
  },
  {
   "cell_type": "markdown",
   "id": "4e6cb067",
   "metadata": {},
   "source": [
    "#### N = 1000, with Replacement"
   ]
  },
  {
   "cell_type": "code",
   "execution_count": 32,
   "id": "109da84d",
   "metadata": {},
   "outputs": [
    {
     "data": {
      "text/plain": [
       "<matplotlib.legend.Legend at 0x7fbf100d6a10>"
      ]
     },
     "execution_count": 32,
     "metadata": {},
     "output_type": "execute_result"
    },
    {
     "data": {
      "image/png": "[encoded data removed]",
      "text/plain": [
       "<Figure size 432x288 with 1 Axes>"
      ]
     },
     "metadata": {
      "needs_background": "light"
     },
     "output_type": "display_data"
    }
   ],
   "source": [
    "# To Do cell\n",
    "n = 5 # 5 players, 5 cards each:\n",
    "k = 5\n",
    "N = 1000\n",
    "# Success: the smallest card is less than 5\n",
    "samp_lst = []\n",
    "for i in range(samp_size):\n",
    "    count = 0\n",
    "    # n = 10 trials\n",
    "    for j in range(10):\n",
    "        count += (np.min(sample_cards_rep(N, n, k, True)) < 5)\n",
    "    samp_lst.append(count)\n",
    "# p = 1 - [(996 choose 25) / (1000 choose 25)]\n",
    "p = 0.096\n",
    "binom_samp = np.random.binomial(10, p, size = samp_size)\n",
    "plt.hist(samp_lst, range(30), alpha = 0.5, label = \"Sample\")\n",
    "plt.hist(binom_samp, range(30), alpha = 0.5, label = \"Theoretical\")\n",
    "plt.legend(loc='upper right')"
   ]
  },
  {
   "cell_type": "markdown",
   "id": "1e3da4aa",
   "metadata": {},
   "source": [
    "#### N = 1000, without Replacement"
   ]
  },
  {
   "cell_type": "code",
   "execution_count": 33,
   "id": "be51fa30",
   "metadata": {},
   "outputs": [
    {
     "data": {
      "text/plain": [
       "<matplotlib.legend.Legend at 0x7fbf10206a90>"
      ]
     },
     "execution_count": 33,
     "metadata": {},
     "output_type": "execute_result"
    },
    {
     "data": {
      "image/png": "[encoded data removed]",
      "text/plain": [
       "<Figure size 432x288 with 1 Axes>"
      ]
     },
     "metadata": {
      "needs_background": "light"
     },
     "output_type": "display_data"
    }
   ],
   "source": [
    "# To Do cell\n",
    "n = 5 # 5 players, 5 cards each:\n",
    "k = 5\n",
    "N = 1000\n",
    "# Success: the smallest card is less than 5\n",
    "samp_lst = []\n",
    "for i in range(samp_size):\n",
    "    count = 0\n",
    "    # n = 10 trials\n",
    "    for j in range(10):\n",
    "        count += (np.min(sample_cards_rep(N, n, k, False)) < 5)\n",
    "    samp_lst.append(count)\n",
    "# p = 1 - [(996 choose 25) / (1000 choose 25)]\n",
    "p = 0.096\n",
    "binom_samp = np.random.binomial(10, p, size = samp_size)\n",
    "plt.hist(samp_lst, range(30), alpha = 0.5, label = \"Sample\")\n",
    "plt.hist(binom_samp, range(30), alpha = 0.5, label = \"Theoretical\")\n",
    "plt.legend(loc='upper right')"
   ]
  },
  {
   "cell_type": "markdown",
   "id": "989c5b32",
   "metadata": {},
   "source": [
    "When N is reasonably close to $n * k$, we see that the sampled data is able to resemble the target distribution well without replacement. However, if we sample with replacement, this resemblance is not as close as when we sample with replacement because we are more likely to repeatedly draw the same cards. With N very far from $n * k$, this difference is no longer apparent between sampling with replacement and sampling without replacement. The reason being that it is now much less likely to repeatedly draw the same card when we sample with replacement due to the fact that N is so much larger than $n * k$."
   ]
  },
  {
   "cell_type": "markdown",
   "id": "f200da1c",
   "metadata": {
    "user_expressions": []
   },
   "source": [
    "### Contribution statement\n",
    "\n",
    "Please include a list of the students you work with along this project (including yourself). Include both names and GitHub usernames of the people you collaborated with. Maximum of three persons per group. \n",
    "- Member No1: Kenneth Chen\n",
    "- Member No2: \n",
    "- Member No3:"
   ]
  }
 ],
 "metadata": {
  "kernelspec": {
   "display_name": "Python 3",
   "language": "python",
   "name": "python3"
  },
  "language_info": {
   "codemirror_mode": {
    "name": "ipython",
    "version": 3
   },
   "file_extension": ".py",
   "mimetype": "text/x-python",
   "name": "python",
   "nbconvert_exporter": "python",
   "pygments_lexer": "ipython3",
   "version": "3.7.4"
  }
 },
 "nbformat": 4,
 "nbformat_minor": 5
}
